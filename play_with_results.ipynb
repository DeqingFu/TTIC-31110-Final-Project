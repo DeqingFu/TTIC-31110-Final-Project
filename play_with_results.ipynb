{
 "cells": [
  {
   "cell_type": "code",
   "execution_count": 14,
   "metadata": {},
   "outputs": [],
   "source": [
    "import json\n",
    "import editdistance\n",
    "from otherdistance import compute_wer_notone, compute_wer_pingqiaoshe, compute_wer_qianhoubi, compute_wer_mohu\n",
    "\n",
    "def compute_wer(results):\n",
    "    \"\"\"\n",
    "    Compute the word-error-rate (WER).\n",
    "    \"\"\"\n",
    "    dist = 0.\n",
    "    for label, pred in results:\n",
    "        dist += editdistance.eval(label, pred)\n",
    "    total = sum(len(label) for label, _ in results)\n",
    "    return dist / total, dist, total"
   ]
  },
  {
   "cell_type": "code",
   "execution_count": 18,
   "metadata": {
    "scrolled": false
   },
   "outputs": [
    {
     "name": "stdout",
     "output_type": "stream",
     "text": [
      "Total: 86652\n",
      "7.03% WER with dist 6292 (test)\n",
      "7.03% WER with dist 6092 - no tone (test)\n",
      "7.01% WER with dist 6075 - no tone, s,sh c,ch, z,zh (test)\n",
      "6.99% WER with dist 6055 - no tone, in,ing an,ang, en,eng (test)\n",
      "6.99% WER with dist 6033 - all above (test)\n"
     ]
    }
   ],
   "source": [
    "with open('test_results_mfcc_pitch.json', 'r') as res:\n",
    "    results = json.load(res)\n",
    "    \n",
    "test_wer, dist_wer, total = compute_wer(results)\n",
    "test_wer_notone, dist_notone = compute_wer_notone(results)\n",
    "test_wer_pingqiaoshe, dist_pingqiaoshe = compute_wer_pingqiaoshe(results)\n",
    "test_wer_qianhoubi, dist_qianhoubi = compute_wer_qianhoubi(results)\n",
    "test_wer_mohu, dist_mohu = compute_wer_mohu(results)\n",
    "\n",
    "print(\"Total: {}\".format(total))\n",
    "print(\"{:.2f}% WER with dist {} (test)\".format(test_wer_notone * 100., int(dist_wer)))\n",
    "print(\"{:.2f}% WER with dist {} - no tone (test)\".format(test_wer_notone * 100., int(dist_notone)))\n",
    "print(\"{:.2f}% WER with dist {} - no tone, s,sh c,ch, z,zh (test)\".format(test_wer_pingqiaoshe * 100., int(dist_pingqiaoshe)))\n",
    "print(\"{:.2f}% WER with dist {} - no tone, in,ing an,ang, en,eng (test)\".format(test_wer_qianhoubi * 100., int(dist_qianhoubi)))\n",
    "print(\"{:.2f}% WER with dist {} - all above (test)\".format(test_wer_qianhoubi * 100., int(dist_mohu)))\n"
   ]
  },
  {
   "cell_type": "code",
   "execution_count": null,
   "metadata": {},
   "outputs": [],
   "source": []
  }
 ],
 "metadata": {
  "kernelspec": {
   "display_name": "Python 3",
   "language": "python",
   "name": "python3"
  },
  "language_info": {
   "codemirror_mode": {
    "name": "ipython",
    "version": 3
   },
   "file_extension": ".py",
   "mimetype": "text/x-python",
   "name": "python",
   "nbconvert_exporter": "python",
   "pygments_lexer": "ipython3",
   "version": "3.6.5"
  }
 },
 "nbformat": 4,
 "nbformat_minor": 2
}
